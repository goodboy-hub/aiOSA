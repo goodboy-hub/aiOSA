{
 "cells": [
  {
   "cell_type": "code",
   "execution_count": 2,
   "metadata": {},
   "outputs": [],
   "source": [
    "from sklearn.ensemble import RandomForestClassifier\n",
    "from sklearn import tree\n",
    "from xgboost import XGBClassifier\n",
    "from sklearn.linear_model import LogisticRegression,LinearRegression\n",
    "from sklearn import svm\n",
    "import numpy as np\n",
    "import pandas as pd\n",
    "from sklearn.model_selection import KFold,cross_val_score,train_test_split\n",
    "from sklearn.metrics import roc_auc_score,accuracy_score,r2_score\n",
    "import sys\n",
    "import warnings\n",
    "import torch\n",
    "from torch.utils.data import DataLoader\n",
    "from sklearn.linear_model import LogisticRegression\n",
    "sys.path.append('/home/linzenghui/ECG_code/HeartRateVariability_220217')\n",
    "\n",
    "import FrequencyDomain as fd\n",
    "import TimeDomain as td\n",
    "import NonLinear as nl\n",
    "from common import *\n",
    "from Rpeaks import *\n",
    "from preprocess import *\n",
    "\n",
    "import matplotlib.pyplot as plt\n",
    "from matplotlib.colors import to_rgba\n",
    "from sklearn.cross_decomposition import CCA"
   ]
  },
  {
   "cell_type": "code",
   "execution_count": 56,
   "metadata": {},
   "outputs": [
    {
     "data": {
      "text/plain": [
       "[<matplotlib.lines.Line2D at 0x7f73f3f7d000>]"
      ]
     },
     "execution_count": 56,
     "metadata": {},
     "output_type": "execute_result"
    },
    {
     "data": {
      "image/png": "[encoded data removed]",
      "text/plain": [
       "<Figure size 640x480 with 1 Axes>"
      ]
     },
     "metadata": {},
     "output_type": "display_data"
    }
   ],
   "source": [
    "color_para=[(203,153,126),(221,190,169),(253,232,213),(184,183,163),(165,165,141),(107,112,92)]\n",
    "color_platte=[to_rgba((red/255,green/255,blue/255)) for (red,green,blue) in color_para]\n",
    "plt.plot([0, 1], [0, 1], color=color_platte[5], linewidth=4)"
   ]
  },
  {
   "cell_type": "code",
   "execution_count": 3,
   "metadata": {},
   "outputs": [],
   "source": [
    "all_map=['ahi','anno','age','sex/gas','bmi','sdnn', 'sdann_1', 'sdnni_1', 'rmssd', 'sdsd', 'cvnn',\n",
    "   'cvsd', 'pNN20', 'pNN50', 'tri_index', 'tinn_m', 'tinn_n', 'tinn',\n",
    "   'vlf_power', 'lf_power', 'hf_power', 'vhf_power', 'total_power', 'lf_n',\n",
    "   'hf_n', 'lf_hf', 'sd1', 'sd2', 'sd1_sd2', 's', 'csi', 'cvi',\n",
    "   'csi_modified', 'approximate', 'sample', 'shannon', 'fuzzy', 'cd',\n",
    "   'hfd', 'kfd', 'lzc']\n",
    "all_dataset=['wsc','shhs1','shhs2','cfs','numom2b1','numom2b2','msp']\n",
    "train_dataset=['wsc','shhs1','shhs2','cfs','numom2b1','numom2b2']\n",
    "test_dataset=['msp']\n",
    "\n",
    "use_map=['pNN20','pNN50','sdnn','sdann_1','shannon','cvi','sd2','s']\n",
    "use_dataset=[]\n",
    "\n",
    "full_map=['sdnn', 'sdann_1', 'sdnni_1', 'rmssd', 'sdsd', 'cvnn',\n",
    "   'cvsd', 'pNN20', 'pNN50', 'tri_index', 'tinn_m', 'tinn_n', 'tinn',\n",
    "   'vlf_power', 'lf_power', 'hf_power', 'vhf_power', 'total_power', 'lf_n',\n",
    "   'hf_n', 'lf_hf', 'sd1', 'sd2', 'sd1_sd2', 's', 'csi', 'cvi',\n",
    "   'csi_modified', 'approximate', 'sample', 'shannon', 'fuzzy', 'cd',\n",
    "    'kfd', 'lzc']"
   ]
  },
  {
   "cell_type": "code",
   "execution_count": 4,
   "metadata": {},
   "outputs": [],
   "source": [
    "##从头计算所有数据集hrv的代码函数块,用于做baseline,但跑完一边后可直接从xlsx里导出来\n",
    "def make_dataframe(dataset_used, use_control=True,use_norm=True,control_sqi=0.6):\n",
    "    '''\n",
    "    return x:ndarray y:ndarray\n",
    "    '''\n",
    "    dataset_list=[]\n",
    "    if 'wsc' in dataset_used:\n",
    "        dataset_list.append(np.load('/data/0shared/linzenghui/ECG_data/public_dataset/wsc/analysis_extract/wsc.npy'))\n",
    "        print('wsc loaded down')\n",
    "    if 'shhs1' in dataset_used:\n",
    "        dataset_list.append(np.load('/data/0shared/linzenghui/ECG_data/public_dataset/shhs/analysis_extract/shhs1.npy'))\n",
    "        print('shhs1 loaded down')\n",
    "    if 'shhs2' in dataset_used:\n",
    "        dataset_list.append(np.load('/data/0shared/linzenghui/ECG_data/public_dataset/shhs/analysis_extract/shhs2.npy'))\n",
    "        print('shhs2 loaded down')\n",
    "    if 'cfs' in dataset_used:\n",
    "        dataset_list.append(np.load('/data/0shared/linzenghui/ECG_data/public_dataset/cfs/analysis_extract/cfs.npy'))\n",
    "        print('cfs loaded down')\n",
    "    if 'numom2b1' in dataset_used:\n",
    "        dataset_list.append(np.load('/data/0shared/linzenghui/ECG_data/public_dataset/numom2b/analysis_ectract/numom2b1.npy'))\n",
    "        print('numom2b1 loaded down')\n",
    "    if 'numom2b2' in dataset_used:\n",
    "        dataset_list.append(np.load('/data/0shared/linzenghui/ECG_data/public_dataset/numom2b/analysis_ectract/numom2b2.npy'))\n",
    "        print('numom2b2 loaded down')\n",
    "    if 'msp' in dataset_used:\n",
    "        dataset_list.append(np.load('/data/0shared/linzenghui/ECG_data/msp/analysis_extract/msp.npy'))\n",
    "        print('msp loaded down')\n",
    "    data_all=np.vstack(dataset_list)\n",
    "    print(f'all loaded,len{len(data_all)}')\n",
    "    if use_control:\n",
    "        print(f'开始质量控制{control_sqi}')\n",
    "        pass_data=[sqi(data_all[idx,6:],r_peaks(data_all[idx,6:]),control=control_sqi)[0] for idx in range(len(data_all))]\n",
    "        data_all=data_all[pass_data]\n",
    "        print('质量控制结束')\n",
    "    if use_norm:\n",
    "        print('数据正则化开始')\n",
    "        data_all=normalize_for_database(data_all)\n",
    "        print('数据正则化完成')\n",
    "\n",
    "    dic_list=[]\n",
    "    print('hrv 计算开始')\n",
    "    for idx in range(len(data_all)):\n",
    "        peaks=simple_qrs_detector(data_all[idx,6:],fs=200)\n",
    "        fineturned_r=R_Wave_finetune(data_all[idx,6:],peaks)\n",
    "        td_data=td.hrv(fineturned_r,sampling_rate=200).__dict__\n",
    "        fd_data=fd.frequencies(fineturned_r,200).__dict__\n",
    "        with warnings.catch_warnings():\n",
    "            warnings.simplefilter('ignore')\n",
    "            poincare_data=nl.poincare(fineturned_r, 200).__dict__\n",
    "            entropy_data=nl.entropy(fineturned_r, 200).__dict__\n",
    "        all_dict=dict(**td_data,**fd_data,**poincare_data,**entropy_data)\n",
    "        all_dict['ahi']=data_all[idx,1]\n",
    "        all_dict['anno']=data_all[idx,2]\n",
    "        all_dict['age']=data_all[idx,3]\n",
    "        all_dict['sex/gas']=data_all[idx,4]\n",
    "        all_dict['bmi']=data_all[idx,5]\n",
    "        all_dict['dataset_number']=data_all[idx,0]\n",
    "        dic_list.append(all_dict)\n",
    "    print('hrv 计算完毕')\n",
    "    df_hrv=pd.DataFrame(dic_list)\n",
    "    return df_hrv\n",
    "\n",
    "def select_dataset(use_dataset):\n",
    "    all_df_hrv=pd.read_excel('/data/0shared/linzenghui/ECG_data/public_dataset/hrv_state+msp.xlsx')\n",
    "    dataset_number_dic={'wsc':6,'shhs1':1,'shhs2':2,'cfs':3,'numom2b1':4,'numom2b2':5,'msp':7}\n",
    "    use_dataset_number=[dataset_number_dic[name] for name in use_dataset]\n",
    "    query='dataset_number in '+str(use_dataset_number)\n",
    "    return all_df_hrv.query(query)\n",
    "\n",
    "def make_x_y(df_hrv,hrv_state_map,use_ahi):\n",
    "    x=df_hrv[hrv_state_map]\n",
    "    if use_ahi:\n",
    "        y=df_hrv['ahi']\n",
    "    else:\n",
    "        y=df_hrv['anno']\n",
    "    return x,y"
   ]
  },
  {
   "cell_type": "code",
   "execution_count": 2,
   "metadata": {},
   "outputs": [
    {
     "name": "stdout",
     "output_type": "stream",
     "text": [
      "wsc loaded down\n",
      "shhs1 loaded down\n",
      "shhs2 loaded down\n",
      "cfs loaded down\n",
      "numom2b1 loaded down\n",
      "numom2b2 loaded down\n",
      "开始质量控制0.6\n",
      "质量控制结束\n",
      "训练集:7744,测试集2021\n",
      "数据正则化开始\n",
      "数据正则化完成\n",
      "data prepared down.len:20210,batch_size:64, iter:316\n",
      "model prepared down. devicecuda:3\n",
      "features extracted down. datasetnumber+ahi+0/1+age+sex+bmi+32deep\n"
     ]
    }
   ],
   "source": [
    "##用来计算训练集合测试集的深度特征+age+bmi的代码块+++++++\n",
    "from net1d import *\n",
    "\n",
    "class Psg_dataset(Dataset):\n",
    "    def __init__(self,state,use_cut) :\n",
    "        if state=='train':\n",
    "            self.data_all=train_data\n",
    "            if use_cut:\n",
    "                self.data_all=cut_data(train_data)\n",
    "        if state=='test':\n",
    "            self.data_all=test_data\n",
    "            if use_cut:\n",
    "                self.data_all=cut_data(test_data)\n",
    "    \n",
    "    def __getitem__(self, index) :\n",
    "            return self.data_all[index,6:],self.data_all[index,0,1,2,3,5]\n",
    "\n",
    "    def __len__(self):\n",
    "        return len(self.data_all)\n",
    "\n",
    "all_dataset=['wsc','shhs1','shhs2','cfs','numom2b1','numom2b2']\n",
    "use_dataset=['wsc','shhs1','shhs2','cfs']\n",
    "train_data,test_data=prepare_data(dataset_used=all_dataset)\n",
    "train_set=Psg_dataset(state='train',use_cut=True)\n",
    "test_set=Psg_dataset(state='test',use_cut=True)\n",
    "train_iter=DataLoader(train_set,batch_size=64,shuffle=False)\n",
    "test_iter=DataLoader(test_set,batch_size=64,shuffle=False)\n",
    "print(f'data prepared down.len:{len(test_set)},batch_size:{64}, iter:{len(test_iter)}')\n",
    "\n",
    "model=Net1D(in_channels=1,base_filters=256,ratio=1,\n",
    "          filter_list=[256,512,512,256,128,32],m_blocks_list=[3,3,4,4,3,1],\n",
    "          kernel_size=8,stride=2,\n",
    "          n_classes=1,use_bn=True,use_do=True,verbose=False,groups_width=16,get_hidden=True)\n",
    "device_str = torch.device('cuda:3')\n",
    "model.to(device_str)\n",
    "model.load_state_dict(torch.load('/data/0shared/linzenghui/ECG_data/public_dataset/ECG_model/model_040',map_location=device_str).state_dict())\n",
    "print(f'model prepared down. device{device_str}')\n",
    "\n",
    "model.eval()\n",
    "train_features=[]\n",
    "test_features=[]\n",
    "with torch.no_grad():\n",
    "    for val_x,val_demo in train_iter:\n",
    "        val_x=torch.tensor(np.expand_dims(val_x,1)).to(device_str,torch.float32)\n",
    "        deep_features=model(val_x).to('cpu')\n",
    "        train_features.append(torch.hstack([val_demo,deep_features]))\n",
    "    features_train=np.array(torch.vstack(train_features))\n",
    "\n",
    "    for val_x,val_demo in test_iter:\n",
    "        val_x=torch.tensor(np.expand_dims(val_x,1)).to(device_str,torch.float32)\n",
    "        deep_features=model(val_x).to('cpu')\n",
    "        test_features.append(torch.hstack([val_demo,deep_features]))\n",
    "    features_test=np.array(torch.vstack(test_features))\n",
    "print(f'features extracted down. datasetnumber+ahi+0/1+age+sex+bmi+32deep')\n",
    "\n",
    "features_train[:,4][np.isnan(features_train[:,4])]=np.nanmean(features_train[:,4])\n",
    "features_test[:,4][np.isnan(features_test[:,4])]=np.nanmean(features_test[:,4])"
   ]
  },
  {
   "cell_type": "code",
   "execution_count": 10,
   "metadata": {},
   "outputs": [
    {
     "name": "stdout",
     "output_type": "stream",
     "text": [
      "0.6195447798119743\n",
      "0.6370113805047006\n",
      "0.643394359228105\n",
      "0.6381989114299852\n",
      "0.6410192973775358\n"
     ]
    }
   ],
   "source": [
    "#+++++++用来检测深度特征和age+bmi组合效果的代码块，验证集上的++++++++++\n",
    "model_list=[tree.DecisionTreeClassifier(),RandomForestClassifier(),XGBClassifier(),svm.SVC(),LogisticRegression(random_state=0,max_iter=500)]\n",
    "for model_i in model_list:\n",
    "    model_i.fit(features_train[:,3:],features_train[:,2])\n",
    "    y_hat=model_i.predict(features_test[:,3:])\n",
    "    print(accuracy_score(features_test[:,2],y_hat))"
   ]
  },
  {
   "cell_type": "code",
   "execution_count": 4,
   "metadata": {},
   "outputs": [
    {
     "name": "stdout",
     "output_type": "stream",
     "text": [
      "开始质量控制0.6\n",
      "质量控制结束\n",
      "数据正则化开始\n",
      "数据正则化完成\n",
      "data prepared down.len:,batch_size:64, iter:10\n",
      "model prepared down. devicecuda:3\n",
      "msp features extracted down. datasetnumber+ahi+0/1+age+sex+bmi+32deep\n"
     ]
    }
   ],
   "source": [
    "##msp深度特征提取\n",
    "from net1d import *\n",
    "def prepare_data_test(use_control=True,control_sqi=0.6,use_norm=True):\n",
    "    data=np.load('/data/0shared/linzenghui/ECG_data/msp/analysis_extract/msp.npy')\n",
    "    if use_control:\n",
    "        print(f'开始质量控制{control_sqi}')\n",
    "        data_pass=[sqi(data[idx,6:],r_peaks(data[idx,6:]),control=control_sqi)[0] for idx in range(len(data))]\n",
    "        data=data[data_pass]\n",
    "        print('质量控制结束')\n",
    "    if use_norm:\n",
    "        print('数据正则化开始')\n",
    "        data=normalize_for_database(data)\n",
    "        print('数据正则化完成')\n",
    "    return data\n",
    "\n",
    "def cut_data(data,window_size=30*200,step=30*200,datasetnumber=6):\n",
    "    database=np.zeros(shape=(int(data.shape[0]*((data.shape[1]-6-window_size)/step+1)),6+window_size))\n",
    "    database[:,0]=datasetnumber\n",
    "    count=0\n",
    "    for idx in range(data.shape[0]):\n",
    "        for start in range(6,data.shape[1],step):\n",
    "            database[count,1]=data[idx,1]\n",
    "            database[count,2]=data[idx,2]\n",
    "            database[count,3]=data[idx,3]\n",
    "            database[count,4]=data[idx,4]\n",
    "            database[count,5]=data[idx,5]\n",
    "            database[count,6:]=data[idx,start:start+window_size]\n",
    "            count+=1\n",
    "    assert count==database.shape[0]\n",
    "    return database\n",
    "\n",
    "msp_data=prepare_data_test()\n",
    "\n",
    "class Psg_dataset_msp(Dataset):\n",
    "    def __init__(self,use_cut=True) :\n",
    "        self.data_all=msp_data\n",
    "        if use_cut:\n",
    "            self.data_all=cut_data(self.data_all)\n",
    "    \n",
    "    def __getitem__(self, index) :\n",
    "        return self.data_all[index,6:],self.data_all[index,[0,1,2,3,5]]\n",
    "\n",
    "    def __len__(self):\n",
    "        return len(self.data_all)\n",
    "\n",
    "msp_set=Psg_dataset_msp(use_cut=True)\n",
    "msp_iter=DataLoader(msp_set,batch_size=64,shuffle=False)\n",
    "print(f'data prepared down.len:,batch_size:{64}, iter:{len(msp_iter)}')\n",
    "\n",
    "model=Net1D(in_channels=1,base_filters=256,ratio=1,\n",
    "          filter_list=[256,512,512,256,128,32],m_blocks_list=[3,3,4,4,3,1],\n",
    "          kernel_size=8,stride=2,\n",
    "          n_classes=1,use_bn=True,use_do=True,verbose=False,groups_width=16,get_hidden=True)\n",
    "device_str = torch.device('cuda:3')\n",
    "model.to(device_str)\n",
    "model.load_state_dict(torch.load('/data/0shared/linzenghui/ECG_data/public_dataset/ECG_model/model_040',map_location=device_str).state_dict())\n",
    "print(f'model prepared down. device{device_str}')\n",
    "\n",
    "model.eval()\n",
    "msp_features=[]\n",
    "with torch.no_grad():\n",
    "    for msp_x,msp_demo in msp_iter:\n",
    "        train_x=torch.tensor(np.expand_dims(msp_x,1)).to(device_str,torch.float32)\n",
    "        deep_features=model(train_x).to('cpu')\n",
    "        msp_features.append(torch.hstack([msp_demo,deep_features]))\n",
    "    features_msp=np.array(torch.vstack(msp_features))\n",
    "print(f'msp features extracted down. datasetnumber+ahi+0/1+age+sex+bmi+32deep')"
   ]
  },
  {
   "cell_type": "code",
   "execution_count": 12,
   "metadata": {},
   "outputs": [
    {
     "name": "stdout",
     "output_type": "stream",
     "text": [
      "0.6370967741935484\n",
      "0.6112903225806452\n",
      "0.5951612903225807\n",
      "0.614516129032258\n",
      "0.5951612903225807\n"
     ]
    }
   ],
   "source": [
    "##特征逻辑回归的测试结果\n",
    "for model_i in model_list:\n",
    "    y_hat=model_i.predict(features_msp[:,3:])\n",
    "    print(accuracy_score(features_msp[:,2],y_hat))"
   ]
  },
  {
   "cell_type": "code",
   "execution_count": 5,
   "metadata": {},
   "outputs": [
    {
     "name": "stdout",
     "output_type": "stream",
     "text": [
      "numom2b1 loaded down\n",
      "numom2b2 loaded down\n",
      "开始质量控制0.6\n",
      "质量控制结束\n",
      "训练集:1551,测试集396\n",
      "数据正则化开始\n",
      "数据正则化完成\n",
      "data prepared down.len:3960,batch_size:64, iter:62\n",
      "model prepared down. devicecuda:3\n",
      "features extracted down. datasetnumber+ahi+0/1+age+sex+bmi+32deep\n"
     ]
    }
   ],
   "source": [
    "#补做一个在numom2b上调整的结果\n",
    "from net1d import *\n",
    "\n",
    "class Psg_dataset(Dataset):\n",
    "    def __init__(self,state,use_cut) :\n",
    "        if state=='train':\n",
    "            self.data_all=train_data\n",
    "            if use_cut:\n",
    "                self.data_all=cut_data(train_data)\n",
    "        if state=='test':\n",
    "            self.data_all=test_data\n",
    "            if use_cut:\n",
    "                self.data_all=cut_data(test_data)\n",
    "    \n",
    "    def __getitem__(self, index) :\n",
    "            return self.data_all[index,6:],self.data_all[index,0:6]\n",
    "\n",
    "    def __len__(self):\n",
    "        return len(self.data_all)\n",
    "\n",
    "use_dataset=['numom2b1','numom2b2']\n",
    "train_data,test_data=prepare_data(dataset_used=use_dataset)\n",
    "train_set=Psg_dataset(state='train',use_cut=True)\n",
    "test_set=Psg_dataset(state='test',use_cut=True)\n",
    "train_iter=DataLoader(train_set,batch_size=64,shuffle=False)\n",
    "test_iter=DataLoader(test_set,batch_size=64,shuffle=False)\n",
    "print(f'data prepared down.len:{len(test_set)},batch_size:{64}, iter:{len(test_iter)}')\n",
    "\n",
    "model=Net1D(in_channels=1,base_filters=256,ratio=1,\n",
    "          filter_list=[256,512,512,256,128,32],m_blocks_list=[3,3,4,4,3,1],\n",
    "          kernel_size=8,stride=2,\n",
    "          n_classes=1,use_bn=True,use_do=True,verbose=False,groups_width=16,get_hidden=True)\n",
    "device_str = torch.device('cuda:3')\n",
    "model.to(device_str)\n",
    "model.load_state_dict(torch.load('/data/0shared/linzenghui/ECG_data/public_dataset/ECG_model/model_040',map_location=device_str).state_dict())\n",
    "print(f'model prepared down. device{device_str}')\n",
    "\n",
    "model.eval()\n",
    "train_features=[]\n",
    "test_features=[]\n",
    "with torch.no_grad():\n",
    "    for val_x,val_demo in train_iter:\n",
    "        val_x=torch.tensor(np.expand_dims(val_x,1)).to(device_str,torch.float32)\n",
    "        deep_features=model(val_x).to('cpu')\n",
    "        train_features.append(torch.hstack([val_demo,deep_features]))\n",
    "    features_train=np.array(torch.vstack(train_features))\n",
    "\n",
    "    for val_x,val_demo in test_iter:\n",
    "        val_x=torch.tensor(np.expand_dims(val_x,1)).to(device_str,torch.float32)\n",
    "        deep_features=model(val_x).to('cpu')\n",
    "        test_features.append(torch.hstack([val_demo,deep_features]))\n",
    "    features_test=np.array(torch.vstack(test_features))\n",
    "print(f'features extracted down. datasetnumber+ahi+0/1+age+sex+bmi+32deep')\n",
    "\n",
    "features_train[:,5][np.isnan(features_train[:,5])]=np.nanmean(features_train[:,5])\n",
    "features_test[:,5][np.isnan(features_test[:,5])]=np.nanmean(features_test[:,5])"
   ]
  },
  {
   "cell_type": "code",
   "execution_count": 41,
   "metadata": {},
   "outputs": [
    {
     "name": "stderr",
     "output_type": "stream",
     "text": [
      "/home/linzenghui/anaconda3/envs/ECG_torch/lib/python3.10/site-packages/sklearn/manifold/_spectral_embedding.py:274: UserWarning: Graph is not fully connected, spectral embedding may not work as expected.\n",
      "  warnings.warn(\n"
     ]
    }
   ],
   "source": [
    "##uamp\n",
    "import umap\n",
    "umap_model=umap.UMAP(n_neighbors=10)\n",
    "umap_result=umap_model.fit_transform(features_test[:,5:])\n",
    "colors = np.where(features_test[:,2] == 0, 'blue', 'red')\n",
    "plt.scatter(umap_result[:,0], umap_result[:,1], c=colors,s=1)"
   ]
  },
  {
   "cell_type": "code",
   "execution_count": 4,
   "metadata": {},
   "outputs": [],
   "source": [
    "##grad-cam\n",
    "import gradcam\n",
    "from gradcam import GradCAM\n",
    "cam = GradCAM(model=my_net, target_layers=[my_net.stage_list[4]],use_cuda=True)\n",
    "results = torch.tensor(cam(input_tensor=x)).reshape(2400)"
   ]
  },
  {
   "cell_type": "code",
   "execution_count": 15,
   "metadata": {},
   "outputs": [
    {
     "name": "stdout",
     "output_type": "stream",
     "text": [
      "开始质量控制0.6\n",
      "质量控制结束\n",
      "数据正则化开始\n",
      "数据正则化完成\n",
      "data prepared down.len:,batch_size:10, iter:62\n",
      "model prepared down. devicecuda:3\n",
      "msp features extracted down. datasetnumber+ahi+0/1+age+sex+bmi+32deep\n"
     ]
    }
   ],
   "source": [
    "##相关性——hrv解释结果——在msp上——计算预测值+++++\n",
    "msp_table=select_dataset(['msp'])\n",
    "\n",
    "from net1d import *\n",
    "def prepare_data_test(use_control=True,control_sqi=0.6,use_norm=True):\n",
    "    data=np.load('/data/0shared/linzenghui/ECG_data/msp/analysis_extract/msp.npy')\n",
    "    if use_control:\n",
    "        print(f'开始质量控制{control_sqi}')\n",
    "        data_pass=[sqi(data[idx,6:],r_peaks(data[idx,6:]),control=control_sqi)[0] for idx in range(len(data))]\n",
    "        data=data[data_pass]\n",
    "        print('质量控制结束')\n",
    "    if use_norm:\n",
    "        print('数据正则化开始')\n",
    "        data=normalize_for_database(data)\n",
    "        print('数据正则化完成')\n",
    "    return data\n",
    "\n",
    "def cut_data(data,window_size=30*200,step=30*200,datasetnumber=6):\n",
    "    database=np.zeros(shape=(int(data.shape[0]*((data.shape[1]-6-window_size)/step+1)),6+window_size))\n",
    "    database[:,0]=datasetnumber\n",
    "    count=0\n",
    "    for idx in range(data.shape[0]):\n",
    "        for start in range(6,data.shape[1],step):\n",
    "            database[count,1]=data[idx,1]\n",
    "            database[count,2]=data[idx,2]\n",
    "            database[count,3]=data[idx,3]\n",
    "            database[count,4]=data[idx,4]\n",
    "            database[count,5]=data[idx,5]\n",
    "            database[count,6:]=data[idx,start:start+window_size]\n",
    "            count+=1\n",
    "    assert count==database.shape[0]\n",
    "    return database\n",
    "\n",
    "msp_data=prepare_data_test()\n",
    "\n",
    "class Psg_dataset_msp(Dataset):\n",
    "    def __init__(self,use_cut=True) :\n",
    "        self.data_all=msp_data\n",
    "        if use_cut:\n",
    "            self.data_all=cut_data(self.data_all)\n",
    "    \n",
    "    def __getitem__(self, index) :\n",
    "        return self.data_all[index,6:],self.data_all[index,[0,1,2,3,5]]\n",
    "\n",
    "    def __len__(self):\n",
    "        return len(self.data_all)\n",
    "\n",
    "msp_set=Psg_dataset_msp(use_cut=True)\n",
    "msp_iter=DataLoader(msp_set,batch_size=10,shuffle=False)\n",
    "print(f'data prepared down.len:,batch_size:{10}, iter:{len(msp_iter)}')\n",
    "\n",
    "model=Net1D(in_channels=1,base_filters=256,ratio=1,\n",
    "          filter_list=[256,512,512,256,128,32],m_blocks_list=[3,3,4,4,3,1],\n",
    "          kernel_size=8,stride=2,\n",
    "          n_classes=1,use_bn=True,use_do=True,verbose=False,groups_width=16,get_hidden=False)\n",
    "device_str = torch.device('cuda:3')\n",
    "model.to(device_str)\n",
    "model.load_state_dict(torch.load('/data/0shared/linzenghui/ECG_data/public_dataset/ECG_model/model_040',map_location=device_str).state_dict())\n",
    "print(f'model prepared down. device{device_str}')\n",
    "\n",
    "model.eval()\n",
    "y_pre=torch.tensor([])\n",
    "with torch.no_grad():\n",
    "    for msp_x,msp_demo in msp_iter:\n",
    "        train_x=torch.tensor(np.expand_dims(msp_x,1)).to(device_str,torch.float32)\n",
    "        y_hat=torch.sigmoid(model(train_x).to('cpu'))\n",
    "        y_pre=torch.cat((y_pre,y_hat))\n",
    "avg_pre=np.array(y_pre.reshape(62,10)).mean(-1)\n",
    "print(f'msp features extracted down. datasetnumber+ahi+0/1+age+sex+bmi+32deep')"
   ]
  },
  {
   "cell_type": "code",
   "execution_count": 9,
   "metadata": {},
   "outputs": [
    {
     "ename": "NameError",
     "evalue": "name 'table' is not defined",
     "output_type": "error",
     "traceback": [
      "\u001b[0;31m---------------------------------------------------------------------------\u001b[0m",
      "\u001b[0;31mNameError\u001b[0m                                 Traceback (most recent call last)",
      "\u001b[1;32m/home/linzenghui/ECG_code/Tree_model.ipynb Cell 13\u001b[0m line \u001b[0;36m3\n\u001b[1;32m      <a href='vscode-notebook-cell://ssh-remote%2B219.147.100.43/home/linzenghui/ECG_code/Tree_model.ipynb#X15sdnNjb2RlLXJlbW90ZQ%3D%3D?line=0'>1</a>\u001b[0m \u001b[39m#+++++++msp上解释性结果大概在-0.6\u001b[39;00m\n\u001b[1;32m      <a href='vscode-notebook-cell://ssh-remote%2B219.147.100.43/home/linzenghui/ECG_code/Tree_model.ipynb#X15sdnNjb2RlLXJlbW90ZQ%3D%3D?line=1'>2</a>\u001b[0m use_hrv\u001b[39m=\u001b[39m[\u001b[39m'\u001b[39m\u001b[39msdnn\u001b[39m\u001b[39m'\u001b[39m,\u001b[39m'\u001b[39m\u001b[39msdann_1\u001b[39m\u001b[39m'\u001b[39m,\u001b[39m'\u001b[39m\u001b[39mpNN20\u001b[39m\u001b[39m'\u001b[39m,\u001b[39m'\u001b[39m\u001b[39mpNN50\u001b[39m\u001b[39m'\u001b[39m,\u001b[39m'\u001b[39m\u001b[39msd2\u001b[39m\u001b[39m'\u001b[39m,\u001b[39m'\u001b[39m\u001b[39ms\u001b[39m\u001b[39m'\u001b[39m,\u001b[39m'\u001b[39m\u001b[39mcvi\u001b[39m\u001b[39m'\u001b[39m,\u001b[39m'\u001b[39m\u001b[39mshannon\u001b[39m\u001b[39m'\u001b[39m]\n\u001b[0;32m----> <a href='vscode-notebook-cell://ssh-remote%2B219.147.100.43/home/linzenghui/ECG_code/Tree_model.ipynb#X15sdnNjb2RlLXJlbW90ZQ%3D%3D?line=2'>3</a>\u001b[0m x_train,x_test,y_train,y_test\u001b[39m=\u001b[39mtrain_test_split(table[use_hrv],avg_pre,test_size\u001b[39m=\u001b[39m\u001b[39m0.3\u001b[39m)\n\u001b[1;32m      <a href='vscode-notebook-cell://ssh-remote%2B219.147.100.43/home/linzenghui/ECG_code/Tree_model.ipynb#X15sdnNjb2RlLXJlbW90ZQ%3D%3D?line=3'>4</a>\u001b[0m clf\u001b[39m=\u001b[39mLinearRegression()\u001b[39m.\u001b[39mfit(x_train,y_train)\n\u001b[1;32m      <a href='vscode-notebook-cell://ssh-remote%2B219.147.100.43/home/linzenghui/ECG_code/Tree_model.ipynb#X15sdnNjb2RlLXJlbW90ZQ%3D%3D?line=4'>5</a>\u001b[0m r2_score(y_train,clf\u001b[39m.\u001b[39mpredict(x_train))\n",
      "\u001b[0;31mNameError\u001b[0m: name 'table' is not defined"
     ]
    }
   ],
   "source": [
    "#+++++++msp上解释性结果大概在-0.6\n",
    "x_train,x_test,y_train,y_test=train_test_split(table[use_hrv],avg_pre,test_size=0.3)\n",
    "clf=LinearRegression().fit(x_train,y_train)\n",
    "r2_score(y_train,clf.predict(x_train))"
   ]
  },
  {
   "cell_type": "code",
   "execution_count": 42,
   "metadata": {},
   "outputs": [
    {
     "name": "stdout",
     "output_type": "stream",
     "text": [
      "wsc loaded down\n",
      "shhs1 loaded down\n",
      "shhs2 loaded down\n",
      "cfs loaded down\n",
      "numom2b1 loaded down\n",
      "numom2b2 loaded down\n",
      "开始质量控制0.6\n",
      "质量控制结束\n",
      "训练集:7744,测试集2021\n",
      "数据正则化开始\n",
      "数据正则化完成\n",
      "data prepared down.len:2021,batch_size:64, iter:32\n",
      "model prepared down. devicecuda:3\n"
     ]
    }
   ],
   "source": [
    "##用来计算测试集HRV的代码块\n",
    "from net1d import *\n",
    "\n",
    "class Psg_tail_dataset(Dataset):\n",
    "    def __init__(self,state) :\n",
    "        if state=='train':\n",
    "            self.data_all=train_data\n",
    "        if state=='test':\n",
    "            self.data_all=test_data\n",
    "    \n",
    "    def __getitem__(self, index) :\n",
    "            return self.data_all[index],self.data_all[index,2]\n",
    "\n",
    "    def __len__(self):\n",
    "        return len(self.data_all)\n",
    "\n",
    "all_dataset=['wsc','shhs1','shhs2','cfs','numom2b1','numom2b2']\n",
    "train_data,test_data=prepare_data(dataset_used=all_dataset)\n",
    "\n",
    "train_set=Psg_tail_dataset(state='train')\n",
    "# test_set=Psg_tail_dataset(state='test')\n",
    "train_iter=DataLoader(train_set,batch_size=64,shuffle=False)\n",
    "# test_iter=DataLoader(test_set,batch_size=64,shuffle=False)\n",
    "print(f'data prepared down.len:{len(train_set)},batch_size:{64}, iter:{len(train_iter)}')\n",
    "\n",
    "model=Net1D(in_channels=1,base_filters=256,ratio=1,\n",
    "          filter_list=[256,512,512,256,128,32],m_blocks_list=[3,3,4,4,3,1],\n",
    "          kernel_size=8,stride=2,\n",
    "          n_classes=1,use_bn=True,use_do=True,verbose=False,groups_width=16,get_hidden=False)\n",
    "device_str = torch.device('cuda:3')\n",
    "model.to(device_str)\n",
    "model.load_state_dict(torch.load('/data/0shared/linzenghui/ECG_data/public_dataset/ECG_model/model_040',map_location=device_str).state_dict())\n",
    "print(f'model prepared down. device{device_str}')\n",
    "\n",
    "model.eval()\n",
    "y_pre=torch.tensor([])\n",
    "with torch.no_grad():\n",
    "    for val_x,val_demo in test_iter:\n",
    "        val_x=torch.tensor(np.expand_dims(val_x[:,-6000:],1)).to(device_str,torch.float32)\n",
    "        y_hat=torch.sigmoid(model(val_x).to('cpu'))\n",
    "        y_pre=torch.cat((y_pre,y_hat))"
   ]
  },
  {
   "cell_type": "code",
   "execution_count": 43,
   "metadata": {},
   "outputs": [],
   "source": [
    "with open('/data/0shared/linzenghui/ECG_data/public_dataset/prepared_test_data.npy','xb') as f:\n",
    "    np.save(f,test_data)\n",
    "with open('/data/0shared/linzenghui/ECG_data/public_dataset/prepared_train_data.npy','xb') as f:\n",
    "    np.save(f,train_data)"
   ]
  },
  {
   "cell_type": "code",
   "execution_count": 3,
   "metadata": {},
   "outputs": [],
   "source": [
    "train_data=np.load('/data/0shared/linzenghui/ECG_data/public_dataset/prepared_train_data.npy')"
   ]
  },
  {
   "cell_type": "code",
   "execution_count": 5,
   "metadata": {},
   "outputs": [
    {
     "name": "stdout",
     "output_type": "stream",
     "text": [
      "hrv 计算开始\n",
      "hrv 计算完毕\n"
     ]
    }
   ],
   "source": [
    "dic_list=[]\n",
    "print('hrv 计算开始')\n",
    "for idx in range(len(train_data)):\n",
    "    peaks=simple_qrs_detector(train_data[idx,6:],fs=200)\n",
    "    fineturned_r=R_Wave_finetune(train_data[idx,6:],peaks)\n",
    "    td_data=td.hrv(fineturned_r,sampling_rate=200).__dict__\n",
    "    fd_data=fd.frequencies(fineturned_r,200).__dict__\n",
    "    with warnings.catch_warnings():\n",
    "        warnings.simplefilter('ignore')\n",
    "        poincare_data=nl.poincare(fineturned_r, 200).__dict__\n",
    "        entropy_data=nl.entropy(fineturned_r, 200).__dict__\n",
    "    all_dict=dict(**td_data,**fd_data,**poincare_data,**entropy_data)\n",
    "    all_dict['ahi']=train_data[idx,1]\n",
    "    all_dict['anno']=train_data[idx,2]\n",
    "    all_dict['age']=train_data[idx,3]\n",
    "    all_dict['sex/gas']=train_data[idx,4]\n",
    "    all_dict['bmi']=train_data[idx,5]\n",
    "    all_dict['dataset_number']=train_data[idx,0]\n",
    "    all_dict['idx']=idx\n",
    "    dic_list.append(all_dict)\n",
    "print('hrv 计算完毕')\n",
    "df_hrv=pd.DataFrame(dic_list)"
   ]
  },
  {
   "cell_type": "code",
   "execution_count": 6,
   "metadata": {},
   "outputs": [],
   "source": [
    "df_hrv.to_excel('train_hrv.xlsx')"
   ]
  },
  {
   "cell_type": "code",
   "execution_count": 48,
   "metadata": {},
   "outputs": [
    {
     "data": {
      "text/html": [
       "<div>\n",
       "<style scoped>\n",
       "    .dataframe tbody tr th:only-of-type {\n",
       "        vertical-align: middle;\n",
       "    }\n",
       "\n",
       "    .dataframe tbody tr th {\n",
       "        vertical-align: top;\n",
       "    }\n",
       "\n",
       "    .dataframe thead th {\n",
       "        text-align: right;\n",
       "    }\n",
       "</style>\n",
       "<table border=\"1\" class=\"dataframe\">\n",
       "  <thead>\n",
       "    <tr style=\"text-align: right;\">\n",
       "      <th></th>\n",
       "      <th>sdnn</th>\n",
       "      <th>sdann_1</th>\n",
       "      <th>pNN20</th>\n",
       "      <th>pNN50</th>\n",
       "      <th>sd2</th>\n",
       "      <th>s</th>\n",
       "      <th>cvi</th>\n",
       "      <th>shannon</th>\n",
       "    </tr>\n",
       "  </thead>\n",
       "  <tbody>\n",
       "    <tr>\n",
       "      <th>0</th>\n",
       "      <td>51.722946</td>\n",
       "      <td>8.577603</td>\n",
       "      <td>31.250000</td>\n",
       "      <td>5.059524</td>\n",
       "      <td>67.303432</td>\n",
       "      <td>6107.232603</td>\n",
       "      <td>4.492815</td>\n",
       "      <td>4.724929</td>\n",
       "    </tr>\n",
       "    <tr>\n",
       "      <th>1</th>\n",
       "      <td>60.388003</td>\n",
       "      <td>14.665697</td>\n",
       "      <td>28.358209</td>\n",
       "      <td>0.895522</td>\n",
       "      <td>81.255402</td>\n",
       "      <td>6778.997646</td>\n",
       "      <td>4.538136</td>\n",
       "      <td>5.079074</td>\n",
       "    </tr>\n",
       "    <tr>\n",
       "      <th>2</th>\n",
       "      <td>42.141152</td>\n",
       "      <td>18.901185</td>\n",
       "      <td>31.481481</td>\n",
       "      <td>1.481481</td>\n",
       "      <td>52.174062</td>\n",
       "      <td>3440.905262</td>\n",
       "      <td>4.243643</td>\n",
       "      <td>4.552857</td>\n",
       "    </tr>\n",
       "    <tr>\n",
       "      <th>3</th>\n",
       "      <td>75.815220</td>\n",
       "      <td>13.155879</td>\n",
       "      <td>48.742138</td>\n",
       "      <td>11.320755</td>\n",
       "      <td>89.026770</td>\n",
       "      <td>16782.212061</td>\n",
       "      <td>4.931819</td>\n",
       "      <td>5.339863</td>\n",
       "    </tr>\n",
       "    <tr>\n",
       "      <th>4</th>\n",
       "      <td>71.435703</td>\n",
       "      <td>40.565007</td>\n",
       "      <td>17.575758</td>\n",
       "      <td>2.121212</td>\n",
       "      <td>87.080552</td>\n",
       "      <td>13178.060601</td>\n",
       "      <td>4.826822</td>\n",
       "      <td>5.084620</td>\n",
       "    </tr>\n",
       "    <tr>\n",
       "      <th>...</th>\n",
       "      <td>...</td>\n",
       "      <td>...</td>\n",
       "      <td>...</td>\n",
       "      <td>...</td>\n",
       "      <td>...</td>\n",
       "      <td>...</td>\n",
       "      <td>...</td>\n",
       "      <td>...</td>\n",
       "    </tr>\n",
       "    <tr>\n",
       "      <th>2016</th>\n",
       "      <td>35.512916</td>\n",
       "      <td>18.249013</td>\n",
       "      <td>4.494382</td>\n",
       "      <td>1.498127</td>\n",
       "      <td>42.507955</td>\n",
       "      <td>3577.722100</td>\n",
       "      <td>4.260577</td>\n",
       "      <td>4.335976</td>\n",
       "    </tr>\n",
       "    <tr>\n",
       "      <th>2017</th>\n",
       "      <td>75.726647</td>\n",
       "      <td>21.381836</td>\n",
       "      <td>34.647887</td>\n",
       "      <td>5.352113</td>\n",
       "      <td>92.582575</td>\n",
       "      <td>15415.397141</td>\n",
       "      <td>4.894925</td>\n",
       "      <td>4.492403</td>\n",
       "    </tr>\n",
       "    <tr>\n",
       "      <th>2018</th>\n",
       "      <td>72.217089</td>\n",
       "      <td>30.894329</td>\n",
       "      <td>19.718310</td>\n",
       "      <td>5.399061</td>\n",
       "      <td>83.399946</td>\n",
       "      <td>15491.119676</td>\n",
       "      <td>4.897053</td>\n",
       "      <td>5.301759</td>\n",
       "    </tr>\n",
       "    <tr>\n",
       "      <th>2019</th>\n",
       "      <td>37.334428</td>\n",
       "      <td>15.086846</td>\n",
       "      <td>47.588424</td>\n",
       "      <td>8.360129</td>\n",
       "      <td>48.270869</td>\n",
       "      <td>3267.832078</td>\n",
       "      <td>4.221230</td>\n",
       "      <td>4.772070</td>\n",
       "    </tr>\n",
       "    <tr>\n",
       "      <th>2020</th>\n",
       "      <td>27.274201</td>\n",
       "      <td>6.966647</td>\n",
       "      <td>44.329897</td>\n",
       "      <td>1.804124</td>\n",
       "      <td>34.213470</td>\n",
       "      <td>1920.967141</td>\n",
       "      <td>3.990490</td>\n",
       "      <td>4.416750</td>\n",
       "    </tr>\n",
       "  </tbody>\n",
       "</table>\n",
       "<p>2021 rows × 8 columns</p>\n",
       "</div>"
      ],
      "text/plain": [
       "           sdnn    sdann_1      pNN20      pNN50        sd2             s  \\\n",
       "0     51.722946   8.577603  31.250000   5.059524  67.303432   6107.232603   \n",
       "1     60.388003  14.665697  28.358209   0.895522  81.255402   6778.997646   \n",
       "2     42.141152  18.901185  31.481481   1.481481  52.174062   3440.905262   \n",
       "3     75.815220  13.155879  48.742138  11.320755  89.026770  16782.212061   \n",
       "4     71.435703  40.565007  17.575758   2.121212  87.080552  13178.060601   \n",
       "...         ...        ...        ...        ...        ...           ...   \n",
       "2016  35.512916  18.249013   4.494382   1.498127  42.507955   3577.722100   \n",
       "2017  75.726647  21.381836  34.647887   5.352113  92.582575  15415.397141   \n",
       "2018  72.217089  30.894329  19.718310   5.399061  83.399946  15491.119676   \n",
       "2019  37.334428  15.086846  47.588424   8.360129  48.270869   3267.832078   \n",
       "2020  27.274201   6.966647  44.329897   1.804124  34.213470   1920.967141   \n",
       "\n",
       "           cvi   shannon  \n",
       "0     4.492815  4.724929  \n",
       "1     4.538136  5.079074  \n",
       "2     4.243643  4.552857  \n",
       "3     4.931819  5.339863  \n",
       "4     4.826822  5.084620  \n",
       "...        ...       ...  \n",
       "2016  4.260577  4.335976  \n",
       "2017  4.894925  4.492403  \n",
       "2018  4.897053  5.301759  \n",
       "2019  4.221230  4.772070  \n",
       "2020  3.990490  4.416750  \n",
       "\n",
       "[2021 rows x 8 columns]"
      ]
     },
     "execution_count": 48,
     "metadata": {},
     "output_type": "execute_result"
    }
   ],
   "source": [
    "df_hrv[use_hrv]"
   ]
  },
  {
   "cell_type": "code",
   "execution_count": 50,
   "metadata": {},
   "outputs": [
    {
     "data": {
      "text/plain": [
       "0.045962150746690855"
      ]
     },
     "execution_count": 50,
     "metadata": {},
     "output_type": "execute_result"
    }
   ],
   "source": [
    "x_train,x_test,y_train,y_test=train_test_split(df_hrv[use_hrv],y_pre,test_size=0.3)\n",
    "clf=LinearRegression().fit(x_train,y_train)\n",
    "r2_score(y_test,clf.predict(x_test))"
   ]
  },
  {
   "cell_type": "code",
   "execution_count": 18,
   "metadata": {},
   "outputs": [],
   "source": [
    "def cal_deep_features(data,device_str):\n",
    "\n",
    "    class Psg_dataset_iner(Dataset):\n",
    "        def __init__(self,use_cut=True) :\n",
    "            self.data_all=data\n",
    "            if use_cut:\n",
    "                self.data_all=cut_data(self.data_all)\n",
    "        \n",
    "        def __getitem__(self, index) :\n",
    "            return self.data_all[index,6:],self.data_all[index,0:6]\n",
    "\n",
    "        def __len__(self):\n",
    "            return len(self.data_all)\n",
    "        \n",
    "    temp_set=Psg_dataset_iner(use_cut=True)\n",
    "    temp_iter=DataLoader(temp_set,batch_size=64,shuffle=False)\n",
    "    print(f'data prepared down.len:,batch_size:{64}, iter:{len(temp_iter)}')\n",
    "\n",
    "    model=Net1D(in_channels=1,base_filters=256,ratio=1,\n",
    "          filter_list=[256,512,512,256,128,32],m_blocks_list=[3,3,4,4,3,1],\n",
    "          kernel_size=8,stride=2,\n",
    "          n_classes=1,use_bn=True,use_do=True,verbose=False,groups_width=16,get_hidden=True)\n",
    "    model.to(device_str)\n",
    "    model.load_state_dict(torch.load('/data/0shared/linzenghui/ECG_data/public_dataset/ECG_model/model_040',map_location=device_str).state_dict())\n",
    "    print(f'model prepared down. device{device_str}')\n",
    "\n",
    "    model.eval()\n",
    "    temp_features=[]\n",
    "    with torch.no_grad():\n",
    "        for temp_x,temp_demo in temp_iter:\n",
    "            train_x=torch.tensor(np.expand_dims(temp_x,1)).to(device_str,torch.float32)\n",
    "            deep_features=model(train_x).to('cpu')\n",
    "            temp_features.append(torch.hstack([temp_demo,deep_features]))\n",
    "        features_temp=np.array(torch.vstack(temp_features))\n",
    "    print(f'deep features extracted down. datasetnumber+ahi+0/1+age+sex+bmi+32deep')\n",
    "    return features_temp\n",
    "\n",
    "def hrv_expand(hrv_array):\n",
    "    new_array=np.empty(shape=(10*hrv_array.shape[0],hrv_array.shape[1]))\n",
    "    count=0\n",
    "    for idx in range(hrv_array.shape[0]):\n",
    "        for i in range(10):\n",
    "            new_array[count,:]=hrv_array[idx,:]\n",
    "            count+=1\n",
    "    return new_array"
   ]
  },
  {
   "cell_type": "code",
   "execution_count": 4,
   "metadata": {},
   "outputs": [],
   "source": [
    "test_data=np.load('/data/0shared/linzenghui/ECG_data/public_dataset/prepared_test_data.npy')"
   ]
  },
  {
   "cell_type": "code",
   "execution_count": 6,
   "metadata": {},
   "outputs": [
    {
     "name": "stdout",
     "output_type": "stream",
     "text": [
      "data prepared down.len:,batch_size:64, iter:316\n",
      "model prepared down. devicecuda:3\n",
      "deep features extracted down. datasetnumber+ahi+0/1+age+sex+bmi+32deep\n"
     ]
    }
   ],
   "source": [
    "test_dp=cal_deep_features(test_data,torch.device('cuda:3'))"
   ]
  },
  {
   "cell_type": "code",
   "execution_count": 122,
   "metadata": {},
   "outputs": [],
   "source": [
    "test_hrv=pd.read_excel('./test_hrv.xlsx')"
   ]
  },
  {
   "cell_type": "code",
   "execution_count": 123,
   "metadata": {},
   "outputs": [],
   "source": [
    "test_hrv=hrv_expand(np.array(test_hrv[full_map]))"
   ]
  },
  {
   "cell_type": "code",
   "execution_count": 124,
   "metadata": {},
   "outputs": [],
   "source": [
    "cca = CCA(n_components=32)\n",
    "cca.fit(test_dp[:,6:],test_hrv)\n",
    "X_c, Y_c = cca.transform(test_dp[:,6:],test_hrv)"
   ]
  },
  {
   "cell_type": "code",
   "execution_count": 127,
   "metadata": {},
   "outputs": [
    {
     "data": {
      "text/plain": [
       "<BarContainer object of 32 artists>"
      ]
     },
     "execution_count": 127,
     "metadata": {},
     "output_type": "execute_result"
    },
    {
     "data": {
      "image/png": "[encoded data removed]",
      "text/plain": [
       "<Figure size 640x480 with 1 Axes>"
      ]
     },
     "metadata": {},
     "output_type": "display_data"
    }
   ],
   "source": [
    "canonical_correlations = np.corrcoef(X_c.T, Y_c.T)[:32, 32:]\n",
    "diagonal_elements = np.diagonal(canonical_correlations)\n",
    "plt.bar(np.arange(32),diagonal_elements,color=color_platte[1])"
   ]
  },
  {
   "cell_type": "code",
   "execution_count": 129,
   "metadata": {},
   "outputs": [
    {
     "name": "stdout",
     "output_type": "stream",
     "text": [
      "[[1.         0.51294079]\n",
      " [0.51294079 1.        ]]\n"
     ]
    },
    {
     "data": {
      "text/plain": [
       "<matplotlib.collections.PathCollection at 0x7f73f3aa4af0>"
      ]
     },
     "execution_count": 129,
     "metadata": {},
     "output_type": "execute_result"
    },
    {
     "data": {
      "image/png": "[encoded data removed]",
      "text/plain": [
       "<Figure size 640x480 with 1 Axes>"
      ]
     },
     "metadata": {},
     "output_type": "display_data"
    }
   ],
   "source": [
    "print(np.corrcoef(X_c[:,0],Y_c[:,0]))\n",
    "plt.scatter(X_c[:,0],Y_c[:,0],color=color_platte[0],s=1)"
   ]
  },
  {
   "cell_type": "code",
   "execution_count": 137,
   "metadata": {},
   "outputs": [
    {
     "name": "stderr",
     "output_type": "stream",
     "text": [
      "/home/linzenghui/anaconda3/envs/ECG_torch/lib/python3.10/site-packages/sklearn/linear_model/_logistic.py:458: ConvergenceWarning: lbfgs failed to converge (status=1):\n",
      "STOP: TOTAL NO. of ITERATIONS REACHED LIMIT.\n",
      "\n",
      "Increase the number of iterations (max_iter) or scale the data as shown in:\n",
      "    https://scikit-learn.org/stable/modules/preprocessing.html\n",
      "Please also refer to the documentation for alternative solver options:\n",
      "    https://scikit-learn.org/stable/modules/linear_model.html#logistic-regression\n",
      "  n_iter_i = _check_optimize_result(\n"
     ]
    },
    {
     "data": {
      "text/plain": [
       "0.6678212106218044"
      ]
     },
     "execution_count": 137,
     "metadata": {},
     "output_type": "execute_result"
    }
   ],
   "source": [
    "##补做dp+hrv\n",
    "test_dif=np.hstack((test_dp,test_hrv))\n",
    "clf=LogisticRegression(max_iter=1000)\n",
    "x_train,x_test,y_train,y_test=train_test_split(test_dif[:,6:],test_dif[:,2],test_size=0.3)\n",
    "clf.fit(x_train,y_train)\n",
    "accuracy_score(y_test,clf.predict(x_test))"
   ]
  },
  {
   "cell_type": "code",
   "execution_count": 5,
   "metadata": {},
   "outputs": [
    {
     "name": "stdout",
     "output_type": "stream",
     "text": [
      "开始质量控制0.6\n",
      "质量控制结束\n",
      "数据正则化开始\n",
      "数据正则化完成\n",
      "data prepared down.len:,batch_size:64, iter:3\n",
      "model prepared down. devicecuda:3\n",
      "train features extracted down. datasetnumber+ahi+0/1+age+sex+bmi+32deep\n",
      "test features extracted down. datasetnumber+ahi+0/1+age+sex+bmi+32deep\n",
      "0.8947368421052632\n",
      "0.8947368421052632\n",
      "0.9052631578947369\n",
      "0.8631578947368421\n",
      "0.8947368421052632\n",
      "kangdi features extracted down. datasetnumber+ahi+0/1+age+sex+bmi+32deep\n",
      "0.5516129032258065\n",
      "0.5709677419354838\n",
      "0.55\n",
      "0.5709677419354838\n",
      "0.5951612903225807\n"
     ]
    }
   ],
   "source": [
    "##这是在康迪上的检测效果,效果很差\n",
    "from net1d import *\n",
    "def prepare_data_test(use_control=True,control_sqi=0.6,use_norm=True):\n",
    "    data=np.load('/data/0shared/linzenghui/ECG_data/msp/analysis_extract/msp.npy')\n",
    "    if use_control:\n",
    "        print(f'开始质量控制{control_sqi}')\n",
    "        data_pass=[sqi(data[idx,6:],r_peaks(data[idx,6:]),control=control_sqi)[0] for idx in range(len(data))]\n",
    "        data=data[data_pass]\n",
    "        print('质量控制结束')\n",
    "    if use_norm:\n",
    "        print('数据正则化开始')\n",
    "        data=normalize_for_database(data)\n",
    "        print('数据正则化完成')\n",
    "    return data\n",
    "\n",
    "\n",
    "def cut_data(data,window_size=30*200,step=30*200,datasetnumber=6):\n",
    "    database=np.zeros(shape=(int(data.shape[0]*((data.shape[1]-6-window_size)/step+1)),6+window_size))\n",
    "    database[:,0]=datasetnumber\n",
    "    count=0\n",
    "    for idx in range(data.shape[0]):\n",
    "        for start in range(6,data.shape[1],step):\n",
    "            database[count,1]=data[idx,1]\n",
    "            database[count,2]=data[idx,2]\n",
    "            database[count,3]=data[idx,3]\n",
    "            database[count,4]=data[idx,4]\n",
    "            database[count,5]=data[idx,5]\n",
    "            database[count,6:]=data[idx,start:start+window_size]\n",
    "            count+=1\n",
    "    assert count==database.shape[0]\n",
    "    return database\n",
    "\n",
    "class Psg_dataset_test(Dataset):\n",
    "    def __init__(self,use_cut,mode) :\n",
    "        self.data_all=msp_data\n",
    "        self.train_data,self.test_data=train_test_split(msp_data,test_size=0.3)\n",
    "        if use_cut:\n",
    "            self.train_data=cut_data(self.train_data)\n",
    "            self.test_data=cut_data(self.test_data)\n",
    "        self.mode=mode\n",
    "    \n",
    "    def __getitem__(self, index) :\n",
    "        if self.mode=='train':\n",
    "            return self.train_data[index,6:],self.train_data[index,0:6]\n",
    "        if self.mode=='test':\n",
    "            return self.test_data[index,6:],self.test_data[index,0:6]\n",
    "        if self.mode=='all':\n",
    "            return self.data_all[index,6:],self.data_all[index,0:6]\n",
    "\n",
    "    def __len__(self):\n",
    "        if self.mode=='train':\n",
    "            return len(self.train_data)\n",
    "        if self.mode=='test':\n",
    "            return len(self.test_data)\n",
    "        if self.mode=='all':\n",
    "            return len(self.data_all)\n",
    "\n",
    "msp_data=prepare_data_test()\n",
    "train_msp_set=Psg_dataset_test(use_cut=True,mode='train')\n",
    "test_msp_set=Psg_dataset_test(use_cut=True,mode='test')\n",
    "train_iter=DataLoader(train_msp_set,batch_size=64,shuffle=False)\n",
    "test_iter=DataLoader(test_msp_set,batch_size=64,shuffle=False)\n",
    "print(f'data prepared down.len:,batch_size:{64}, iter:{len(test_iter)}')\n",
    "\n",
    "model=Net1D(in_channels=1,base_filters=256,ratio=1,\n",
    "          filter_list=[256,512,512,256,128,32],m_blocks_list=[3,3,4,4,3,1],\n",
    "          kernel_size=8,stride=2,\n",
    "          n_classes=1,use_bn=True,use_do=True,verbose=False,groups_width=16,get_hidden=True)\n",
    "device_str = torch.device('cuda:3')\n",
    "model.to(device_str)\n",
    "model.load_state_dict(torch.load('/data/0shared/linzenghui/ECG_data/public_dataset/ECG_model/model_040',map_location=device_str).state_dict())\n",
    "print(f'model prepared down. device{device_str}')\n",
    "\n",
    "model.eval()\n",
    "train_features=[]\n",
    "with torch.no_grad():\n",
    "    for train_x,train_demo in train_iter:\n",
    "        train_x=torch.tensor(np.expand_dims(train_x,1)).to(device_str,torch.float32)\n",
    "        deep_features=model(train_x).to('cpu')\n",
    "        train_features.append(torch.hstack([train_demo,deep_features]))\n",
    "    features_train=np.array(torch.vstack(train_features))\n",
    "print(f'train features extracted down. datasetnumber+ahi+0/1+age+sex+bmi+32deep')\n",
    "\n",
    "model.eval()\n",
    "test_features=[]\n",
    "with torch.no_grad():\n",
    "    for test_x,test_demo in test_iter:\n",
    "        test_x=torch.tensor(np.expand_dims(test_x,1)).to(device_str,torch.float32)\n",
    "        deep_features=model(test_x).to('cpu')\n",
    "        test_features.append(torch.hstack([test_demo,deep_features]))\n",
    "    features_test=np.array(torch.vstack(test_features))\n",
    "print(f'test features extracted down. datasetnumber+ahi+0/1+age+sex+bmi+32deep')\n",
    "\n",
    "model_list=[tree.DecisionTreeClassifier(),RandomForestClassifier(),XGBClassifier(),svm.SVC(),LogisticRegression(random_state=0,max_iter=1000)]\n",
    "\n",
    "for model_x in model_list:\n",
    "    model_x.fit(features_train[:,3:],features_train[:,2])\n",
    "    print(accuracy_score(features_test[:,2],model_x.predict(features_test[:,3:])))\n",
    "\n",
    "class psg_kangdi_dataset(Dataset):\n",
    "    def __init__(self,use_cut) :\n",
    "        self.data_all=normalize_for_database(np.load('/data/0shared/linzenghui/ECG_data/康迪/filtered_kangdi.npy'))\n",
    "        if use_cut:\n",
    "            self.data_all=cut_data(self.data_all)\n",
    "    \n",
    "    def __getitem__(self, index) :\n",
    "            return self.data_all[index,6:],self.data_all[index,0:6]\n",
    "\n",
    "    def __len__(self):\n",
    "        return len(self.data_all)\n",
    "    \n",
    "kangdi_set=psg_kangdi_dataset(use_cut=True)\n",
    "outer_test_iter=DataLoader(kangdi_set,batch_size=64,shuffle=False)\n",
    "\n",
    "model.eval()\n",
    "outer_test_features=[]\n",
    "with torch.no_grad():\n",
    "    for test_x,test_demo in outer_test_iter:\n",
    "        test_x=torch.tensor(np.expand_dims(test_x,1)).to(device_str,torch.float32)\n",
    "        deep_features=model(test_x).to('cpu')\n",
    "        outer_test_features.append(torch.hstack([test_demo,deep_features]))\n",
    "    outer_features_test=np.array(torch.vstack(outer_test_features))\n",
    "print(f'kangdi features extracted down. datasetnumber+ahi+0/1+age+sex+bmi+32deep')\n",
    "for model_x in model_list:\n",
    "    print(accuracy_score(outer_features_test[:,2],model_x.predict(outer_features_test[:,3:])))"
   ]
  },
  {
   "cell_type": "code",
   "execution_count": 16,
   "metadata": {},
   "outputs": [],
   "source": [
    "train_data,test_data=train_test_split(msp_data,test_size=0.2)"
   ]
  },
  {
   "cell_type": "code",
   "execution_count": 13,
   "metadata": {},
   "outputs": [],
   "source": [
    "clf=LogisticRegression(random_state=0,max_iter=1000).fit(train_x,train_y)"
   ]
  },
  {
   "cell_type": "code",
   "execution_count": 144,
   "metadata": {},
   "outputs": [],
   "source": [
    "def classify(x,y):\n",
    "    normal_x_number=[y_i==0 for y_i in y]\n",
    "    abnormal_x_number=[y_i==1 for y_i in y]\n",
    "    return x[normal_x_number].to_numpy().reshape(-1),x[abnormal_x_number].to_numpy().reshape(-1)\n",
    "\n",
    "def distribution_hrv(hrv_state):\n",
    "    hrv_tuple=[classify(*make_x_y(select_dataset([name]),hrv_state_map=[hrv_state],use_ahi=False)) for name in all_dataset]\n",
    "    hrv_list=[]\n",
    "    for single_tuple in hrv_tuple:\n",
    "        normal_x,abnormal_x=single_tuple\n",
    "        hrv_list.append(normal_x)\n",
    "        hrv_list.append(abnormal_x)\n",
    "    return hrv_list\n",
    "\n",
    "labels=['wsc_0','wsc_1','shhs1_0','shhs1_1','shhs2_0','shhs2_1','cfs_0','cfs_1','numom2b1_0','numom2b1_1','numom2b2_0','numom2b2_1','msp_0','msp_1']"
   ]
  },
  {
   "cell_type": "code",
   "execution_count": 155,
   "metadata": {},
   "outputs": [],
   "source": [
    "from scipy.stats import mannwhitneyu\n",
    "p_value={}\n",
    "for idx, hrv_state in enumerate(all_map):\n",
    "    normal,abnormal=classify(*make_x_y(select_dataset(['msp']),hrv_state_map=[hrv_state],use_ahi=False))\n",
    "    p_value[hrv_state]=mannwhitneyu(normal,abnormal).pvalue"
   ]
  },
  {
   "cell_type": "code",
   "execution_count": 158,
   "metadata": {},
   "outputs": [],
   "source": [
    "pd.DataFrame([p_value]).to_excel('msp.xlsx')"
   ]
  },
  {
   "cell_type": "code",
   "execution_count": 12,
   "metadata": {},
   "outputs": [
    {
     "data": {
      "image/png": "[encoded data removed]",
      "text/plain": [
       "<Figure size 1200x800 with 6 Axes>"
      ]
     },
     "metadata": {},
     "output_type": "display_data"
    }
   ],
   "source": [
    "fig,ax=plt.subplots(nrows=2,ncols=3)\n",
    "fig.set_size_inches((12,8))\n",
    "ax=ax.flatten()\n",
    "for idx, hrv_state in enumerate(use_map):\n",
    "    normal,abnormal=classify(*make_x_y(df_hrv=df_hrv,hrv_state_map=use_map,use_ahi=False))\n",
    "    ax[idx].boxplot([normal,abnormal],labels=['normal','abnormal'],showfliers=False)\n",
    "    ax[idx].set_title(hrv_state)"
   ]
  },
  {
   "cell_type": "code",
   "execution_count": 143,
   "metadata": {},
   "outputs": [
    {
     "ename": "NameError",
     "evalue": "name 'classify' is not defined",
     "output_type": "error",
     "traceback": [
      "\u001b[0;31m---------------------------------------------------------------------------\u001b[0m",
      "\u001b[0;31mNameError\u001b[0m                                 Traceback (most recent call last)",
      "\u001b[1;32m/home/linzenghui/ECG_code/Tree_model.ipynb Cell 34\u001b[0m line \u001b[0;36m1\n\u001b[0;32m----> <a href='vscode-notebook-cell://ssh-remote%2B219.147.100.43/home/linzenghui/ECG_code/Tree_model.ipynb#X33sdnNjb2RlLXJlbW90ZQ%3D%3D?line=0'>1</a>\u001b[0m normal,abnormal\u001b[39m=\u001b[39mclassify(\u001b[39m*\u001b[39mmake_x_y(select_dataset([\u001b[39m'\u001b[39m\u001b[39mnumom2b1\u001b[39m\u001b[39m'\u001b[39m]),hrv_state_map\u001b[39m=\u001b[39muse_map,use_ahi\u001b[39m=\u001b[39m\u001b[39mFalse\u001b[39;00m))\n",
      "\u001b[0;31mNameError\u001b[0m: name 'classify' is not defined"
     ]
    }
   ],
   "source": [
    "normal,abnormal=classify(*make_x_y(select_dataset(['numom2b1']),hrv_state_map=use_map,use_ahi=False))"
   ]
  },
  {
   "cell_type": "code",
   "execution_count": 40,
   "metadata": {},
   "outputs": [
    {
     "data": {
      "image/png": "[encoded data removed]",
      "text/plain": [
       "<Figure size 2000x600 with 10 Axes>"
      ]
     },
     "metadata": {},
     "output_type": "display_data"
    }
   ],
   "source": [
    "fig,ax=plt.subplots(nrows=2,ncols=5)\n",
    "fig.set_size_inches((20,6))\n",
    "ax=ax.flatten()\n",
    "hrv_list=['pNN20','pNN50','sdann_1','sdnn','sdnni_1','sd2','shannon','s','csi_modified','tinn']\n",
    "for idx, hrv_state in enumerate(hrv_list):\n",
    "    normal,abnormal=classify(*make_x_y(select_dataset(all_dataset),hrv_state_map=[hrv_state],use_ahi=False))\n",
    "    ax[idx].boxplot([normal,abnormal],labels=['normal','abnormal'],showmeans=True,showfliers=False)\n",
    "    ax[idx].set_title(hrv_state)"
   ]
  },
  {
   "cell_type": "code",
   "execution_count": 23,
   "metadata": {},
   "outputs": [
    {
     "data": {
      "text/plain": [
       "Text(0.5, 1.0, 'shannon')"
      ]
     },
     "execution_count": 23,
     "metadata": {},
     "output_type": "execute_result"
    },
    {
     "data": {
      "image/png": "[encoded data removed]",
      "text/plain": [
       "<Figure size 1800x400 with 1 Axes>"
      ]
     },
     "metadata": {},
     "output_type": "display_data"
    }
   ],
   "source": [
    "hrv_str='shannon'\n",
    "plt.figure(figsize=(18,4))\n",
    "plt.boxplot(distribution_hrv(hrv_str),labels=labels,showfliers=False)\n",
    "plt.title(hrv_str)"
   ]
  },
  {
   "cell_type": "code",
   "execution_count": 26,
   "metadata": {},
   "outputs": [],
   "source": [
    "x,y=make_x_y(select_dataset(train_dataset),hrv_state_map=use_map,use_ahi=False)"
   ]
  },
  {
   "cell_type": "code",
   "execution_count": 10,
   "metadata": {},
   "outputs": [],
   "source": [
    "x['bmi']=x['bmi'].fillna(np.nanmean(np.array(x['bmi']).reshape(-1)))"
   ]
  },
  {
   "cell_type": "code",
   "execution_count": 6,
   "metadata": {},
   "outputs": [],
   "source": [
    "x,y=make_x_y(df_hrv,hrv_state_map=use_map,use_ahi=False)"
   ]
  },
  {
   "cell_type": "code",
   "execution_count": 8,
   "metadata": {},
   "outputs": [
    {
     "data": {
      "text/plain": [
       "['pNN20', 'sdnn', 'sdann_1', 'rmssd', 'shannon', 'lf_hf']"
      ]
     },
     "execution_count": 8,
     "metadata": {},
     "output_type": "execute_result"
    }
   ],
   "source": [
    "use_map"
   ]
  },
  {
   "cell_type": "code",
   "execution_count": 27,
   "metadata": {},
   "outputs": [
    {
     "name": "stdout",
     "output_type": "stream",
     "text": [
      "0.5349694615500781\n",
      "0.5701980594660805\n",
      "0.5677437622699129\n",
      "0.5559667432924476\n"
     ]
    }
   ],
   "source": [
    "kfold=KFold(n_splits=10,shuffle=True)\n",
    "model_list=[tree.DecisionTreeClassifier(),RandomForestClassifier(),XGBClassifier(),svm.SVC()]\n",
    "for model in model_list:\n",
    "    print(cross_val_score(estimator=model,X=x,y=y,cv=kfold).mean())"
   ]
  },
  {
   "cell_type": "code",
   "execution_count": 68,
   "metadata": {},
   "outputs": [],
   "source": [
    "train_x,test_x,train_y,test_y=train_test_split(x,y)"
   ]
  },
  {
   "cell_type": "code",
   "execution_count": 69,
   "metadata": {},
   "outputs": [
    {
     "data": {
      "text/plain": [
       "0.5094465117801762"
      ]
     },
     "execution_count": 69,
     "metadata": {},
     "output_type": "execute_result"
    }
   ],
   "source": [
    "kfold=KFold(n_splits=10,shuffle=True)\n",
    "clf=tree.DecisionTreeClassifier()\n",
    "cross_val_score(estimator=clf,X=x,y=y,cv=kfold).mean()"
   ]
  },
  {
   "cell_type": "code",
   "execution_count": 70,
   "metadata": {},
   "outputs": [
    {
     "data": {
      "text/plain": [
       "0.5098479144159382"
      ]
     },
     "execution_count": 70,
     "metadata": {},
     "output_type": "execute_result"
    }
   ],
   "source": [
    "clf=RandomForestClassifier(n_estimators=100)\n",
    "cross_val_score(estimator=clf,X=x,y=y,cv=kfold).mean()"
   ]
  },
  {
   "cell_type": "code",
   "execution_count": 71,
   "metadata": {},
   "outputs": [
    {
     "data": {
      "text/plain": [
       "0.5244068755266256"
      ]
     },
     "execution_count": 71,
     "metadata": {},
     "output_type": "execute_result"
    }
   ],
   "source": [
    "bst=XGBClassifier()\n",
    "cross_val_score(bst,x,y,cv=kfold,scoring='roc_auc').mean()"
   ]
  },
  {
   "cell_type": "code",
   "execution_count": 76,
   "metadata": {},
   "outputs": [
    {
     "data": {
      "text/plain": [
       "0.6084047491158537"
      ]
     },
     "execution_count": 76,
     "metadata": {},
     "output_type": "execute_result"
    }
   ],
   "source": [
    "model=svm.SVC()\n",
    "cross_val_score(model,x,y,cv=kfold,scoring='roc_auc').mean()"
   ]
  }
 ],
 "metadata": {
  "kernelspec": {
   "display_name": "ECG_torch",
   "language": "python",
   "name": "python3"
  },
  "language_info": {
   "codemirror_mode": {
    "name": "ipython",
    "version": 3
   },
   "file_extension": ".py",
   "mimetype": "text/x-python",
   "name": "python",
   "nbconvert_exporter": "python",
   "pygments_lexer": "ipython3",
   "version": "3.10.10"
  },
  "orig_nbformat": 4
 },
 "nbformat": 4,
 "nbformat_minor": 2
}
